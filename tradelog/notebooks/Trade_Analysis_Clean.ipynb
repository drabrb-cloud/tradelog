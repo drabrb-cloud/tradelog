# Performance by symbol and setup
fig, axes = plt.subplots(1, 2, figsize=(14, 5), constrained_layout=True)

sym_perf = df.groupby("symbol")["r_multiple"].mean().sort_values(ascending=False)
setup_perf = df.groupby("setup")["r_multiple"].mean().sort_values(ascending=False)

sns.barplot(x=sym_perf.values, y=sym_perf.index, ax=axes[0], color="tab:blue")
axes[0].set_title("Avg R by Symbol")
axes[0].set_xlabel("Avg R")
axes[0].set_ylabel("")

sns.barplot(x=setup_perf.values, y=setup_perf.index, ax=axes[1], color="tab:purple")
axes[1].set_title("Avg R by Setup")
axes[1].set_xlabel("Avg R")
axes[1].set_ylabel("")

plt.savefig(os.path.join(OUTPUT_DIR, "by_symbol_setup.png"), dpi=150)
plt.show()

# Monthly performance
df_month = df.groupby("month")["net_pnl"].sum()
display(df_month.to_frame(name="monthly_net_pnl"))

df.to_csv(os.path.join(OUTPUT_DIR, "trades_enriched.csv"), index=False)
summary.to_csv(os.path.join(OUTPUT_DIR, "summary.csv"), index=False)
print(f"Saved outputs to {OUTPUT_DIR}")fig, axes = plt.subplots(3, 1, figsize=(10, 12), constrained_layout=True)

# Equity curve
axes[0].plot(df["close_datetime"], df["equity"], color="tab:blue")
axes[0].set_title("Equity Curve")
axes[0].set_xlabel("Time")
axes[0].set_ylabel("Equity (currency)")

# Drawdown
axes[1].fill_between(df["close_datetime"], df["drawdown"], 0, color="tab:red", alpha=0.3)
axes[1].set_title("Drawdown")
axes[1].set_xlabel("Time")
axes[1].set_ylabel("Drawdown")

# Net PnL histogram
axes[2].hist(df["net_pnl"], bins=20, color="tab:green", alpha=0.7)
axes[2].set_title("Distribution of Trade Net PnL")
axes[2].set_xlabel("Net PnL")
axes[2].set_ylabel("Frequency")

plt.savefig(os.path.join(OUTPUT_DIR, "overview_plots.png"), dpi=150)
plt.show()def summarize_kpis(trades: pd.DataFrame) -> pd.DataFrame:
    wins = trades[trades["net_pnl"] > 0]
    losses = trades[trades["net_pnl"] < 0]

    win_rate = len(wins) / len(trades) if len(trades) else np.nan
    avg_r = trades["r_multiple"].mean()
    avg_r_win = wins["r_multiple"].mean() if len(wins) else np.nan
    avg_r_loss = losses["r_multiple"].mean() if len(losses) else np.nan
    expectancy = win_rate * (avg_r_win if not np.isnan(avg_r_win) else 0) + (1 - win_rate) * (avg_r_loss if not np.isnan(avg_r_loss) else 0)

    gross_profit = wins["net_pnl"].sum()
    gross_loss = losses["net_pnl"].abs().sum()
    profit_factor = (gross_profit / gross_loss) if gross_loss > 0 else np.nan

    avg_duration_min = trades["duration_min"].mean()

    equity = trades["equity"]
    max_drawdown = (equity - equity.cummax()).min()

    return pd.DataFrame({
        "num_trades": [len(trades)],
        "win_rate": [win_rate],
        "avg_r": [avg_r],
        "expectancy_r": [expectancy],
        "profit_factor": [profit_factor],
        "avg_duration_min": [avg_duration_min],
        "max_drawdown": [max_drawdown],
        "gross_profit": [gross_profit],
        "gross_loss": [gross_loss]
    })

summary = summarize_kpis(df)
display(summary.round(3))required_cols = [
    "trade_id","open_datetime","close_datetime","symbol","asset_class","side","qty",
    "entry_price","exit_price","fees","account","setup","rr_plan","rr_realized",
    "stop_loss","take_profit","notes"
]

df = pd.read_csv(DATA_PATH)
missing = [c for c in required_cols if c not in df.columns]
if missing:
    raise ValueError(f"Missing required columns: {missing}")

# Parse datetimes
df["open_datetime"] = pd.to_datetime(df["open_datetime"], errors="coerce")
df["close_datetime"] = pd.to_datetime(df["close_datetime"], errors="coerce")

# Normalize types
df["side"] = df["side"].str.upper().str.strip()
num_cols = ["qty","entry_price","exit_price","fees","rr_realized","stop_loss","take_profit"]
df[num_cols] = df[num_cols].apply(pd.to_numeric, errors="coerce")
df["fees"] = df["fees"].fillna(0.0)

# Derived
buy = df["side"] == "BUY"
sell = ~buy
position_value_entry = df["qty"] * df["entry_price"]
position_value_exit = df["qty"] * df["exit_price"]

gross_pnl = np.where(buy, (position_value_exit - position_value_entry), (position_value_entry - position_value_exit))
net_pnl = gross_pnl - df["fees"]

# R multiple fallback if rr_realized missing
r_from_stop = np.where(
    buy,
    (df["exit_price"] - df["entry_price"]) / (df["entry_price"] - df["stop_loss"]),
    (df["entry_price"] - df["exit_price"]) / (df["stop_loss"] - df["entry_price"])
)
r_from_stop = np.where(np.isfinite(r_from_stop), r_from_stop, np.nan)

df["r_multiple"] = df["rr_realized"].where(df["rr_realized"].notna(), r_from_stop)

df["net_pnl"] = net_pnl

df["return_pct"] = np.where(position_value_entry != 0, net_pnl / position_value_entry, np.nan)
df["duration_min"] = (df["close_datetime"] - df["open_datetime"]).dt.total_seconds() / 60.0

# Time groupings
df["date"] = df["close_datetime"].dt.date
df["month"] = df["close_datetime"].dt.to_period("M").astype(str)

# Equity curve
df = df.sort_values("close_datetime").reset_index(drop=True)
df["equity"] = df["net_pnl"].cumsum()

# Drawdown
roll_max = df["equity"].cummax()
df["drawdown"] = df["equity"] - roll_max

display(df.head())import os
import numpy as np
import pandas as pd
import seaborn as sns
import matplotlib.pyplot as plt

sns.set(style="whitegrid")

DATA_PATH = os.environ.get("TRADELOG_CSV", "/workspace/tradelog/data/trades_template.csv")
OUTPUT_DIR = "/workspace/tradelog/outputs"
os.makedirs(OUTPUT_DIR, exist_ok=True)
print(f"Reading: {DATA_PATH}")# Trade Analysis

Load trades from `data/*.csv`, compute KPIs, and visualize performance.

Set the `TRADELOG_CSV` environment variable to use a different file.