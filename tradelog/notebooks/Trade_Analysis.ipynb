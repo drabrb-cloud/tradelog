def summarize_kpis(trades: pd.DataFrame) -> pd.DataFrame:
    trades = trades.copy()
    wins = trades[trades["net_pnl"] > 0]
    losses = trades[trades["net_pnl"] < 0]

    win_rate = len(wins) / len(trades) if len(trades) else np.nan
    avg_r = trades["r_multiple"].mean()
    avg_r_win = wins["r_multiple"].mean() if len(wins) else np.nan
    avg_r_loss = losses["r_multiple"].mean() if len(losses) else np.nan
    expectancy = win_rate * (avg_r_win if not np.isnan(avg_r_win) else 0) + (1 - win_rate) * (avg_r_loss if not np.isnan(avg_r_loss) else 0)

    gross_profit = wins["net_pnl"].sum()
    gross_loss = losses["net_pnl"].abs().sum()
    profit_factor = (gross_profit / gross_loss) if gross_loss > 0 else np.nan

    avg_duration_min = trades["duration_min"].mean()

    # Max drawdown
    equity = trades["equity"]
    roll_max = equity.cummax()
    drawdown = (equity - roll_max)
    max_drawdown = drawdown.min()

    # Consecutive wins/losses
    sign = np.sign(trades["net_pnl"]).replace(0, np.nan)
    groups = (sign != sign.shift()).cumsum()
    streaks = trades.groupby(groups)["net_pnl"].apply(lambda s: (s > 0).all())
    max_win_streak = streaks.groupby(streaks).size().get(True, 0)
    max_loss_streak = streaks.groupby(streaks).size().get(False, 0)

    summary = pd.DataFrame({
        "num_trades": [len(trades)],
        "win_rate": [win_rate],
        "avg_r": [avg_r],
        "expectancy_r": [expectancy],
        "profit_factor": [profit_factor],
        "avg_duration_min": [avg_duration_min],
        "max_drawdown": [max_drawdown],
        "gross_profit": [gross_profit],
        "gross_loss": [gross_loss]
    })
    return summary

# Add net_pnl to df for summary function
df["net_pnl"] = (df["equity"].diff()).fillna(df["equity"])  # recompute in-place if needed
summary = summarize_kpis(df)
display(summary.round(3))required_cols = [
    "trade_id","open_datetime","close_datetime","symbol","asset_class","side","qty",
    "entry_price","exit_price","fees","account","setup","rr_plan","rr_realized",
    "stop_loss","take_profit","notes"
]

df = pd.read_csv(DATA_PATH)
missing = [c for c in required_cols if c not in df.columns]
if missing:
    raise ValueError(f"Missing required columns: {missing}")

# Parse datetimes
for col in ["open_datetime", "close_datetime"]:
    df[col] = pd.to_datetime(df[col], errors="coerce")

# Normalize types
df["side"] = df["side"].str.upper().str.strip()
df["qty"] = pd.to_numeric(df["qty"], errors="coerce")
df["entry_price"] = pd.to_numeric(df["entry_price"], errors="coerce")
df["exit_price"] = pd.to_numeric(df["exit_price"], errors="coerce")
df["fees"] = pd.to_numeric(df["fees"], errors="coerce").fillna(0.0)
df["rr_realized"] = pd.to_numeric(df["rr_realized"], errors="coerce")
df["stop_loss"] = pd.to_numeric(df["stop_loss"], errors="coerce")

# Derived
direction = np.where(df["side"] == "BUY", 1, -1)
position_value_entry = df["qty"] * df["entry_price"]
position_value_exit = df["qty"] * df["exit_price"]

gross_pnl = direction * (position_value_exit - position_value_entry)
net_pnl = gross_pnl - df["fees"].fillna(0)

# R multiple fallback if rr_realized missing
r_from_stop = np.where(
    df["side"] == "BUY",
    (df["exit_price"] - df["entry_price"]) / (df["entry_price"] - df["stop_loss"]),
    (df["entry_price"] - df["exit_price"]) / (df["stop_loss"] - df["entry_price"])
)
# Avoid div-by-zero or invalid
r_from_stop = np.where(np.isfinite(r_from_stop), r_from_stop, np.nan)

df["r_multiple"] = df["rr_realized"].where(df["rr_realized"].notna(), r_from_stop)

df["return_pct"] = np.where(position_value_entry != 0, net_pnl / position_value_entry, np.nan)
df["duration_min"] = (df["close_datetime"] - df["open_datetime"]).dt.total_seconds() / 60.0

# Time groupings
df["date"] = df["close_datetime"].dt.date
df["month"] = df["close_datetime"].dt.to_period("M").astype(str)

# Equity curve
df = df.sort_values("close_datetime").reset_index(drop=True)
df["equity"] = net_pnl.cumsum()

# Drawdown
roll_max = df["equity"].cummax()
df["drawdown"] = df["equity"] - roll_max

df.head()import os
import math
import numpy as np
import pandas as pd
import seaborn as sns
import matplotlib.pyplot as plt
from datetime import timedelta

sns.set(style="whitegrid")

DATA_PATH = os.environ.get("TRADELOG_CSV", "/workspace/tradelog/data/trades_template.csv")
OUTPUT_DIR = "/workspace/tradelog/outputs"
os.makedirs(OUTPUT_DIR, exist_ok=True)
print(f"Reading: {DATA_PATH}")# Trade Analysis

This notebook analyzes trades from `data/trades_template.csv` and computes KPIs.